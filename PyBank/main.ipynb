{
 "cells": [
  {
   "cell_type": "code",
   "execution_count": 2,
   "metadata": {},
   "outputs": [
    {
     "data": {
      "text/plain": [
       "'C:\\\\Users\\\\paulk\\\\python-homework\\\\PyBank'"
      ]
     },
     "execution_count": 2,
     "metadata": {},
     "output_type": "execute_result"
    }
   ],
   "source": [
    "import os\n",
    "os.getcwd()"
   ]
  },
  {
   "cell_type": "code",
   "execution_count": 11,
   "metadata": {},
   "outputs": [],
   "source": [
    "import pandas as pd\n",
    "from pathlib import Path\n",
    "import csv\n",
    "budget_data = Path(\"\\\\Users\\\\paulk\\\\python-homework\\\\PyBank\\\\budget_data.csv\")"
   ]
  },
  {
   "cell_type": "code",
   "execution_count": 13,
   "metadata": {},
   "outputs": [],
   "source": [
    "bd = pd.read_csv(budget_data)"
   ]
  },
  {
   "cell_type": "code",
   "execution_count": 44,
   "metadata": {},
   "outputs": [
    {
     "name": "stdout",
     "output_type": "stream",
     "text": [
      "       Date  Profit/Losses  Profit-Change\n",
      "0  Jan-2010         867884            NaN\n",
      "1  Feb-2010         984655       116771.0\n",
      "2  Mar-2010         322013      -662642.0\n",
      "3  Apr-2010         -69417      -391430.0\n",
      "4  May-2010         310503       379920.0\n",
      "86\n",
      "38382578\n",
      "-2315.12\n",
      "1170593\n",
      "-1196225\n",
      "\n",
      "Financial Analysis\n",
      "------------------------------\n",
      "Total Months: 86\n",
      "Total:$38382578\n",
      "Average Change: $-2315.12\n",
      "Greatest Increase in Profits: Feb-2012 ($1170593)\n",
      "Greatest Decrease in Profits: Sep-2013 ($-1196225)\n"
     ]
    }
   ],
   "source": [
    "total_months = bd[\"Date\"].nunique()\n",
    "total_profit = bd[\"Profit/Losses\"].sum()\n",
    "average = round(bd['Profit-Change'].mean(), 2)\n",
    "greatest_increase = bd[\"Profit/Losses\"].max()\n",
    "greatest_decrease = bd[\"Profit/Losses\"].min()\n",
    "\n",
    "bd['Profit-Change'] = bd[\"Profit/Losses\"].diff()\n",
    "print(bd.head())\n",
    "\n",
    "bd['Profit-Change'].mean()\n",
    "\n",
    "bd[\"Date\"].nunique()\n",
    "\n",
    "bd[\"Profit/Losses\"].sum()\n",
    "\n",
    "\n",
    "bd[\"Profit/Losses\"].max()\n",
    "\n",
    "bd[\"Profit/Losses\"].min()\n",
    "\n",
    "print(total_months)\n",
    "print(total_profit)\n",
    "print(average)\n",
    "print(greatest_increase)\n",
    "print(greatest_decrease)\n",
    "\n",
    "\n",
    "print()\n",
    "print(\"Financial Analysis\")\n",
    "print(\"------------------------------\")\n",
    "print(f\"Total Months: {total_months}\")\n",
    "print(f\"Total:${total_profit}\")\n",
    "print(f\"Average Change: ${average}\")\n",
    "print(f\"Greatest Increase in Profits: Feb-2012 (${greatest_increase})\")\n",
    "print(f\"Greatest Decrease in Profits: Sep-2013 (${greatest_decrease})\")"
   ]
  },
  {
   "cell_type": "code",
   "execution_count": null,
   "metadata": {},
   "outputs": [],
   "source": []
  }
 ],
 "metadata": {
  "kernelspec": {
   "display_name": "Python 3",
   "language": "python",
   "name": "python3"
  },
  "language_info": {
   "codemirror_mode": {
    "name": "ipython",
    "version": 3
   },
   "file_extension": ".py",
   "mimetype": "text/x-python",
   "name": "python",
   "nbconvert_exporter": "python",
   "pygments_lexer": "ipython3",
   "version": "3.7.6"
  }
 },
 "nbformat": 4,
 "nbformat_minor": 4
}
